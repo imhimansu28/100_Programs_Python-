{
 "cells": [
  {
   "cell_type": "code",
   "execution_count": 5,
   "id": "0fae57e9",
   "metadata": {},
   "outputs": [
    {
     "name": "stdout",
     "output_type": "stream",
     "text": [
      "7\n"
     ]
    }
   ],
   "source": [
    "data = [1,2,3,4,5,6,7,8,9,10,11]\n",
    "n = len(data)\n",
    "if len(data)%2==0:\n",
    "    mid = n/2\n",
    "    medain = data[mid]\n",
    "    print(median)\n",
    "else:\n",
    "    mid = round((((n-1)/2)+((n+2)/2))/2)\n",
    "    median = data[mid]\n",
    "    print(median)"
   ]
  },
  {
   "cell_type": "code",
   "execution_count": null,
   "id": "c332b3b4",
   "metadata": {},
   "outputs": [],
   "source": []
  }
 ],
 "metadata": {
  "kernelspec": {
   "display_name": "Python 3 (ipykernel)",
   "language": "python",
   "name": "python3"
  },
  "language_info": {
   "codemirror_mode": {
    "name": "ipython",
    "version": 3
   },
   "file_extension": ".py",
   "mimetype": "text/x-python",
   "name": "python",
   "nbconvert_exporter": "python",
   "pygments_lexer": "ipython3",
   "version": "3.10.4"
  }
 },
 "nbformat": 4,
 "nbformat_minor": 5
}
